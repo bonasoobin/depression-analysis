{
 "cells": [
  {
   "cell_type": "code",
   "execution_count": 2,
   "id": "880da168",
   "metadata": {
    "scrolled": true
   },
   "outputs": [
    {
     "data": {
      "text/html": [
       "<div>\n",
       "<style scoped>\n",
       "    .dataframe tbody tr th:only-of-type {\n",
       "        vertical-align: middle;\n",
       "    }\n",
       "\n",
       "    .dataframe tbody tr th {\n",
       "        vertical-align: top;\n",
       "    }\n",
       "\n",
       "    .dataframe thead th {\n",
       "        text-align: right;\n",
       "    }\n",
       "</style>\n",
       "<table border=\"1\" class=\"dataframe\">\n",
       "  <thead>\n",
       "    <tr style=\"text-align: right;\">\n",
       "      <th></th>\n",
       "      <th>시도</th>\n",
       "      <th>시군구</th>\n",
       "      <th>행정번호</th>\n",
       "      <th>년도</th>\n",
       "      <th>우울증환자수</th>\n",
       "      <th>평균연령</th>\n",
       "      <th>총인구수</th>\n",
       "      <th>스트레스인지율</th>\n",
       "      <th>고용률</th>\n",
       "      <th>코로나확진자수</th>\n",
       "      <th>1인당 정신건강예산(원)</th>\n",
       "      <th>공공시설개수</th>\n",
       "      <th>우울증지수</th>\n",
       "    </tr>\n",
       "  </thead>\n",
       "  <tbody>\n",
       "    <tr>\n",
       "      <th>0</th>\n",
       "      <td>서울특별시</td>\n",
       "      <td>서울종로구</td>\n",
       "      <td>1111000000</td>\n",
       "      <td>2018</td>\n",
       "      <td>14837</td>\n",
       "      <td>44.2</td>\n",
       "      <td>153065</td>\n",
       "      <td>34.2</td>\n",
       "      <td>59.6</td>\n",
       "      <td>0</td>\n",
       "      <td>5326</td>\n",
       "      <td>44</td>\n",
       "      <td>9.693268</td>\n",
       "    </tr>\n",
       "    <tr>\n",
       "      <th>1</th>\n",
       "      <td>서울특별시</td>\n",
       "      <td>서울중구</td>\n",
       "      <td>1114000000</td>\n",
       "      <td>2018</td>\n",
       "      <td>4352</td>\n",
       "      <td>44.6</td>\n",
       "      <td>125725</td>\n",
       "      <td>28.3</td>\n",
       "      <td>59.6</td>\n",
       "      <td>0</td>\n",
       "      <td>5326</td>\n",
       "      <td>42</td>\n",
       "      <td>3.461523</td>\n",
       "    </tr>\n",
       "    <tr>\n",
       "      <th>2</th>\n",
       "      <td>서울특별시</td>\n",
       "      <td>서울용산구</td>\n",
       "      <td>1117000000</td>\n",
       "      <td>2018</td>\n",
       "      <td>2370</td>\n",
       "      <td>43.6</td>\n",
       "      <td>228999</td>\n",
       "      <td>20.0</td>\n",
       "      <td>59.6</td>\n",
       "      <td>0</td>\n",
       "      <td>5326</td>\n",
       "      <td>53</td>\n",
       "      <td>1.034939</td>\n",
       "    </tr>\n",
       "    <tr>\n",
       "      <th>3</th>\n",
       "      <td>서울특별시</td>\n",
       "      <td>서울성동구</td>\n",
       "      <td>1120000000</td>\n",
       "      <td>2018</td>\n",
       "      <td>3657</td>\n",
       "      <td>42.0</td>\n",
       "      <td>308221</td>\n",
       "      <td>31.3</td>\n",
       "      <td>59.6</td>\n",
       "      <td>0</td>\n",
       "      <td>5326</td>\n",
       "      <td>50</td>\n",
       "      <td>1.186486</td>\n",
       "    </tr>\n",
       "    <tr>\n",
       "      <th>4</th>\n",
       "      <td>서울특별시</td>\n",
       "      <td>서울광진구</td>\n",
       "      <td>1121500000</td>\n",
       "      <td>2018</td>\n",
       "      <td>6917</td>\n",
       "      <td>41.4</td>\n",
       "      <td>355559</td>\n",
       "      <td>29.4</td>\n",
       "      <td>59.6</td>\n",
       "      <td>0</td>\n",
       "      <td>5326</td>\n",
       "      <td>47</td>\n",
       "      <td>1.945387</td>\n",
       "    </tr>\n",
       "  </tbody>\n",
       "</table>\n",
       "</div>"
      ],
      "text/plain": [
       "      시도    시군구        행정번호    년도  우울증환자수  평균연령    총인구수  스트레스인지율   고용률  \\\n",
       "0  서울특별시  서울종로구  1111000000  2018   14837  44.2  153065     34.2  59.6   \n",
       "1  서울특별시   서울중구  1114000000  2018    4352  44.6  125725     28.3  59.6   \n",
       "2  서울특별시  서울용산구  1117000000  2018    2370  43.6  228999     20.0  59.6   \n",
       "3  서울특별시  서울성동구  1120000000  2018    3657  42.0  308221     31.3  59.6   \n",
       "4  서울특별시  서울광진구  1121500000  2018    6917  41.4  355559     29.4  59.6   \n",
       "\n",
       "   코로나확진자수  1인당 정신건강예산(원)  공공시설개수     우울증지수  \n",
       "0        0           5326      44  9.693268  \n",
       "1        0           5326      42  3.461523  \n",
       "2        0           5326      53  1.034939  \n",
       "3        0           5326      50  1.186486  \n",
       "4        0           5326      47  1.945387  "
      ]
     },
     "execution_count": 2,
     "metadata": {},
     "output_type": "execute_result"
    }
   ],
   "source": [
    "import pandas as pd\n",
    "final = pd.read_csv(r'final.csv', encoding = 'CP949')\n",
    "final.head(5)"
   ]
  },
  {
   "cell_type": "markdown",
   "id": "0be78636",
   "metadata": {},
   "source": [
    "### SVR 하이퍼파라미터 설명"
   ]
  },
  {
   "cell_type": "markdown",
   "id": "b295cf23",
   "metadata": {},
   "source": [
    "+ kernel   \n",
    "데이터의 특성을 고차원으로 매핑하여 비선형 관계를 모델링할 때 사용됨  \n",
    "'linear' (선형)  \n",
    "'rbf' (방사 기저 함수, 기본값)  \n",
    "'poly' (다항식) 등  \n",
    "\n",
    "+ C (기본값 1.0)  \n",
    "오차에 대한 페널티를 조절하는 매개변수  \n",
    "작은 C 값은 오차를 허용 / 큰 C 값은 오차를 페널티로 여김  \n",
    "(C가 크면 모델이 훈련 데이터에 더욱 민감해지고 복잡한 결정 경계를 만듦)\n",
    "\n",
    "+ gamma  \n",
    "입력 특성이 얼마나 영향을 받을지를 결정  \n",
    "작은 gamma 값은 넓은 영역을 의미"
   ]
  },
  {
   "cell_type": "code",
   "execution_count": 12,
   "id": "e2282c39",
   "metadata": {},
   "outputs": [],
   "source": [
    "from sklearn.metrics import mean_squared_error\n",
    "from sklearn.pipeline import make_pipeline\n",
    "from sklearn.metrics import r2_score\n",
    "from sklearn.preprocessing import RobustScaler\n",
    "from sklearn.model_selection import cross_val_score\n",
    "import numpy as np\n",
    "from sklearn.svm import SVR\n",
    "from sklearn.model_selection import cross_val_predict"
   ]
  },
  {
   "cell_type": "code",
   "execution_count": 13,
   "id": "19bc2534",
   "metadata": {},
   "outputs": [
    {
     "name": "stdout",
     "output_type": "stream",
     "text": [
      "cv= 5 / 평균 r2: 0.7526 / 표준편차 r2: 0.388 / rmse : 0.458\n"
     ]
    }
   ],
   "source": [
    "# 독립변수, 종속변수 정의\n",
    "X = final[['우울증환자수', '평균연령', '총인구수', '스트레스인지율', '고용률', '코로나확진자수', '1인당 정신건강예산(원)', '공공시설개수']]\n",
    "y = final['우울증지수']\n",
    "\n",
    "# 모델 파이프라인 생성 \n",
    "svr_model = make_pipeline(\n",
    "    RobustScaler(),\n",
    "    SVR(kernel='rbf', C = 700, gamma = 0.1)\n",
    ")\n",
    "\n",
    "# 모델 성능 검정\n",
    "rf_cv_scores_r2 = cross_val_score(svr_model, X, y, cv=5, scoring='r2')\n",
    "rf_cv_scores_mse = cross_val_score(svr_model, X, y, cv=5, scoring='neg_mean_squared_error')\n",
    "cv_rmse = np.sqrt(-rf_cv_scores_mse)\n",
    "\n",
    "print('cv=' , 5, '/ 평균 r2:', round(rf_cv_scores_r2.mean(),4), '/ 표준편차 r2:', round(rf_cv_scores_r2.std(),4), '/ rmse :', round(cv_rmse.mean(),4))\n",
    "# cv= 5 / 평균 r2: 0.7526 / 표준편차 r2: 0.388 / rmse : 0.458"
   ]
  },
  {
   "cell_type": "code",
   "execution_count": 11,
   "id": "d4f3c24c",
   "metadata": {},
   "outputs": [
    {
     "name": "stdout",
     "output_type": "stream",
     "text": [
      "predict R²: 0.7256\n"
     ]
    }
   ],
   "source": [
    "# 교차 검증 예측 수행\n",
    "y_pred_cv = cross_val_predict(svr_model, X, y, cv=5)\n",
    "\n",
    "# R² 계산\n",
    "r2_cv = r2_score(y, y_pred_cv)\n",
    "\n",
    "print('predict R²:', round(r2_cv, 4))"
   ]
  }
 ],
 "metadata": {
  "kernelspec": {
   "display_name": "Python 3 (ipykernel)",
   "language": "python",
   "name": "python3"
  },
  "language_info": {
   "codemirror_mode": {
    "name": "ipython",
    "version": 3
   },
   "file_extension": ".py",
   "mimetype": "text/x-python",
   "name": "python",
   "nbconvert_exporter": "python",
   "pygments_lexer": "ipython3",
   "version": "3.11.5"
  }
 },
 "nbformat": 4,
 "nbformat_minor": 5
}
