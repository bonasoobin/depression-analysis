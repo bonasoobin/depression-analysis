{
 "cells": [
  {
   "cell_type": "markdown",
   "id": "a348bdbf",
   "metadata": {},
   "source": [
    "### 서포트벡터머신_수빈"
   ]
  },
  {
   "cell_type": "code",
   "execution_count": 12,
   "id": "261f15a0",
   "metadata": {},
   "outputs": [
    {
     "data": {
      "text/html": [
       "<div>\n",
       "<style scoped>\n",
       "    .dataframe tbody tr th:only-of-type {\n",
       "        vertical-align: middle;\n",
       "    }\n",
       "\n",
       "    .dataframe tbody tr th {\n",
       "        vertical-align: top;\n",
       "    }\n",
       "\n",
       "    .dataframe thead th {\n",
       "        text-align: right;\n",
       "    }\n",
       "</style>\n",
       "<table border=\"1\" class=\"dataframe\">\n",
       "  <thead>\n",
       "    <tr style=\"text-align: right;\">\n",
       "      <th></th>\n",
       "      <th>우울증환자수</th>\n",
       "      <th>평균연령</th>\n",
       "      <th>총인구수</th>\n",
       "      <th>스트레스인지율</th>\n",
       "      <th>고용률</th>\n",
       "      <th>코로나확진자수</th>\n",
       "      <th>1인당 정신건강예산(원)</th>\n",
       "      <th>공공시설개수</th>\n",
       "      <th>우울증지수</th>\n",
       "    </tr>\n",
       "  </thead>\n",
       "  <tbody>\n",
       "    <tr>\n",
       "      <th>0</th>\n",
       "      <td>2.358468</td>\n",
       "      <td>-0.075949</td>\n",
       "      <td>-0.090776</td>\n",
       "      <td>1.553571</td>\n",
       "      <td>-0.149153</td>\n",
       "      <td>-0.027095</td>\n",
       "      <td>-0.320131</td>\n",
       "      <td>-0.141176</td>\n",
       "      <td>9.693268</td>\n",
       "    </tr>\n",
       "    <tr>\n",
       "      <th>1</th>\n",
       "      <td>0.288788</td>\n",
       "      <td>-0.025316</td>\n",
       "      <td>-0.197140</td>\n",
       "      <td>0.500000</td>\n",
       "      <td>-0.149153</td>\n",
       "      <td>-0.027095</td>\n",
       "      <td>-0.320131</td>\n",
       "      <td>-0.164706</td>\n",
       "      <td>3.461523</td>\n",
       "    </tr>\n",
       "    <tr>\n",
       "      <th>2</th>\n",
       "      <td>-0.102448</td>\n",
       "      <td>-0.151899</td>\n",
       "      <td>0.204637</td>\n",
       "      <td>-0.982143</td>\n",
       "      <td>-0.149153</td>\n",
       "      <td>-0.027095</td>\n",
       "      <td>-0.320131</td>\n",
       "      <td>-0.035294</td>\n",
       "      <td>1.034939</td>\n",
       "    </tr>\n",
       "    <tr>\n",
       "      <th>3</th>\n",
       "      <td>0.151599</td>\n",
       "      <td>-0.354430</td>\n",
       "      <td>0.512841</td>\n",
       "      <td>1.035714</td>\n",
       "      <td>-0.149153</td>\n",
       "      <td>-0.027095</td>\n",
       "      <td>-0.320131</td>\n",
       "      <td>-0.070588</td>\n",
       "      <td>1.186486</td>\n",
       "    </tr>\n",
       "    <tr>\n",
       "      <th>4</th>\n",
       "      <td>0.795105</td>\n",
       "      <td>-0.430380</td>\n",
       "      <td>0.697005</td>\n",
       "      <td>0.696429</td>\n",
       "      <td>-0.149153</td>\n",
       "      <td>-0.027095</td>\n",
       "      <td>-0.320131</td>\n",
       "      <td>-0.105882</td>\n",
       "      <td>1.945387</td>\n",
       "    </tr>\n",
       "    <tr>\n",
       "      <th>...</th>\n",
       "      <td>...</td>\n",
       "      <td>...</td>\n",
       "      <td>...</td>\n",
       "      <td>...</td>\n",
       "      <td>...</td>\n",
       "      <td>...</td>\n",
       "      <td>...</td>\n",
       "      <td>...</td>\n",
       "      <td>...</td>\n",
       "    </tr>\n",
       "    <tr>\n",
       "      <th>1245</th>\n",
       "      <td>-0.514410</td>\n",
       "      <td>1.227848</td>\n",
       "      <td>-0.539560</td>\n",
       "      <td>0.357143</td>\n",
       "      <td>1.105085</td>\n",
       "      <td>5.100234</td>\n",
       "      <td>-0.031977</td>\n",
       "      <td>-0.588235</td>\n",
       "      <td>0.750504</td>\n",
       "    </tr>\n",
       "    <tr>\n",
       "      <th>1246</th>\n",
       "      <td>-0.413541</td>\n",
       "      <td>0.708861</td>\n",
       "      <td>-0.451330</td>\n",
       "      <td>-0.410714</td>\n",
       "      <td>0.854237</td>\n",
       "      <td>9.413112</td>\n",
       "      <td>-0.031977</td>\n",
       "      <td>-0.494118</td>\n",
       "      <td>1.314853</td>\n",
       "    </tr>\n",
       "    <tr>\n",
       "      <th>1247</th>\n",
       "      <td>-0.533754</td>\n",
       "      <td>1.645570</td>\n",
       "      <td>-0.522310</td>\n",
       "      <td>-0.428571</td>\n",
       "      <td>0.983051</td>\n",
       "      <td>5.038303</td>\n",
       "      <td>-0.031977</td>\n",
       "      <td>-0.647059</td>\n",
       "      <td>0.438992</td>\n",
       "    </tr>\n",
       "    <tr>\n",
       "      <th>1248</th>\n",
       "      <td>1.700355</td>\n",
       "      <td>-0.291139</td>\n",
       "      <td>1.233217</td>\n",
       "      <td>-0.089286</td>\n",
       "      <td>0.874576</td>\n",
       "      <td>87.528425</td>\n",
       "      <td>0.892078</td>\n",
       "      <td>1.670588</td>\n",
       "      <td>2.331426</td>\n",
       "    </tr>\n",
       "    <tr>\n",
       "      <th>1249</th>\n",
       "      <td>-0.028820</td>\n",
       "      <td>0.126582</td>\n",
       "      <td>0.032568</td>\n",
       "      <td>-0.089286</td>\n",
       "      <td>1.661017</td>\n",
       "      <td>28.961535</td>\n",
       "      <td>0.892078</td>\n",
       "      <td>-0.023529</td>\n",
       "      <td>1.484548</td>\n",
       "    </tr>\n",
       "  </tbody>\n",
       "</table>\n",
       "<p>1250 rows × 9 columns</p>\n",
       "</div>"
      ],
      "text/plain": [
       "        우울증환자수      평균연령      총인구수   스트레스인지율       고용률    코로나확진자수  \\\n",
       "0     2.358468 -0.075949 -0.090776  1.553571 -0.149153  -0.027095   \n",
       "1     0.288788 -0.025316 -0.197140  0.500000 -0.149153  -0.027095   \n",
       "2    -0.102448 -0.151899  0.204637 -0.982143 -0.149153  -0.027095   \n",
       "3     0.151599 -0.354430  0.512841  1.035714 -0.149153  -0.027095   \n",
       "4     0.795105 -0.430380  0.697005  0.696429 -0.149153  -0.027095   \n",
       "...        ...       ...       ...       ...       ...        ...   \n",
       "1245 -0.514410  1.227848 -0.539560  0.357143  1.105085   5.100234   \n",
       "1246 -0.413541  0.708861 -0.451330 -0.410714  0.854237   9.413112   \n",
       "1247 -0.533754  1.645570 -0.522310 -0.428571  0.983051   5.038303   \n",
       "1248  1.700355 -0.291139  1.233217 -0.089286  0.874576  87.528425   \n",
       "1249 -0.028820  0.126582  0.032568 -0.089286  1.661017  28.961535   \n",
       "\n",
       "      1인당 정신건강예산(원)    공공시설개수     우울증지수  \n",
       "0         -0.320131 -0.141176  9.693268  \n",
       "1         -0.320131 -0.164706  3.461523  \n",
       "2         -0.320131 -0.035294  1.034939  \n",
       "3         -0.320131 -0.070588  1.186486  \n",
       "4         -0.320131 -0.105882  1.945387  \n",
       "...             ...       ...       ...  \n",
       "1245      -0.031977 -0.588235  0.750504  \n",
       "1246      -0.031977 -0.494118  1.314853  \n",
       "1247      -0.031977 -0.647059  0.438992  \n",
       "1248       0.892078  1.670588  2.331426  \n",
       "1249       0.892078 -0.023529  1.484548  \n",
       "\n",
       "[1250 rows x 9 columns]"
      ]
     },
     "execution_count": 12,
     "metadata": {},
     "output_type": "execute_result"
    }
   ],
   "source": [
    "import pandas as pd\n",
    "final = pd.read_csv(r'final.csv', encoding = 'CP949')\n",
    "\n",
    "final10 = final.copy()\n",
    "final10 = final10.drop(['시도', '시군구', '행정번호', '년도'], axis=1)\n",
    "\n",
    "from sklearn.preprocessing import RobustScaler\n",
    "col = ['우울증환자수', '평균연령', '총인구수', '스트레스인지율', '고용률',\n",
    "      '코로나확진자수', '1인당 정신건강예산(원)', '공공시설개수']\n",
    "\n",
    "final20 = RobustScaler().fit_transform(final10[col])\n",
    "\n",
    "final20 = pd.DataFrame(final20, columns = final10[col].columns)\n",
    "final20['우울증지수'] = final10['우울증지수']\n",
    "final20"
   ]
  },
  {
   "cell_type": "code",
   "execution_count": 3,
   "id": "31310473",
   "metadata": {},
   "outputs": [
    {
     "name": "stderr",
     "output_type": "stream",
     "text": [
      "C:\\anaconda3\\Lib\\site-packages\\sklearn\\svm\\_classes.py:32: FutureWarning: The default value of `dual` will change from `True` to `'auto'` in 1.5. Set the value of `dual` explicitly to suppress the warning.\n",
      "  warnings.warn(\n"
     ]
    },
    {
     "data": {
      "text/plain": [
       "array([1.])"
      ]
     },
     "execution_count": 3,
     "metadata": {},
     "output_type": "execute_result"
    }
   ],
   "source": [
    "import numpy as np\n",
    "from sklearn import datasets\n",
    "from sklearn.pipeline import Pipeline\n",
    "from sklearn.preprocessing import StandardScaler\n",
    "from sklearn.svm import LinearSVC\n",
    "\n",
    "iris = datasets.load_iris()\n",
    "X = iris[\"data\"][:, (2,3)] #꽃잎 길이/너비\n",
    "y = (iris[\"target\"] == 2).astype(np.float64)\n",
    "\n",
    "svm_clf = Pipeline([(\"scaler\", StandardScaler()),\n",
    "                   (\"linear_svc\", LinearSVC(C=1, loss = \"hinge\")),])\n",
    "\n",
    "svm_clf.fit(X, y)\n",
    "svm_clf.predict([[5.5, 1.7]])"
   ]
  },
  {
   "cell_type": "code",
   "execution_count": 6,
   "id": "dc0b9cc7",
   "metadata": {},
   "outputs": [
    {
     "name": "stderr",
     "output_type": "stream",
     "text": [
      "C:\\anaconda3\\Lib\\site-packages\\sklearn\\svm\\_classes.py:32: FutureWarning: The default value of `dual` will change from `True` to `'auto'` in 1.5. Set the value of `dual` explicitly to suppress the warning.\n",
      "  warnings.warn(\n",
      "C:\\anaconda3\\Lib\\site-packages\\sklearn\\svm\\_base.py:1242: ConvergenceWarning: Liblinear failed to converge, increase the number of iterations.\n",
      "  warnings.warn(\n"
     ]
    },
    {
     "data": {
      "text/html": [
       "<style>#sk-container-id-2 {color: black;}#sk-container-id-2 pre{padding: 0;}#sk-container-id-2 div.sk-toggleable {background-color: white;}#sk-container-id-2 label.sk-toggleable__label {cursor: pointer;display: block;width: 100%;margin-bottom: 0;padding: 0.3em;box-sizing: border-box;text-align: center;}#sk-container-id-2 label.sk-toggleable__label-arrow:before {content: \"▸\";float: left;margin-right: 0.25em;color: #696969;}#sk-container-id-2 label.sk-toggleable__label-arrow:hover:before {color: black;}#sk-container-id-2 div.sk-estimator:hover label.sk-toggleable__label-arrow:before {color: black;}#sk-container-id-2 div.sk-toggleable__content {max-height: 0;max-width: 0;overflow: hidden;text-align: left;background-color: #f0f8ff;}#sk-container-id-2 div.sk-toggleable__content pre {margin: 0.2em;color: black;border-radius: 0.25em;background-color: #f0f8ff;}#sk-container-id-2 input.sk-toggleable__control:checked~div.sk-toggleable__content {max-height: 200px;max-width: 100%;overflow: auto;}#sk-container-id-2 input.sk-toggleable__control:checked~label.sk-toggleable__label-arrow:before {content: \"▾\";}#sk-container-id-2 div.sk-estimator input.sk-toggleable__control:checked~label.sk-toggleable__label {background-color: #d4ebff;}#sk-container-id-2 div.sk-label input.sk-toggleable__control:checked~label.sk-toggleable__label {background-color: #d4ebff;}#sk-container-id-2 input.sk-hidden--visually {border: 0;clip: rect(1px 1px 1px 1px);clip: rect(1px, 1px, 1px, 1px);height: 1px;margin: -1px;overflow: hidden;padding: 0;position: absolute;width: 1px;}#sk-container-id-2 div.sk-estimator {font-family: monospace;background-color: #f0f8ff;border: 1px dotted black;border-radius: 0.25em;box-sizing: border-box;margin-bottom: 0.5em;}#sk-container-id-2 div.sk-estimator:hover {background-color: #d4ebff;}#sk-container-id-2 div.sk-parallel-item::after {content: \"\";width: 100%;border-bottom: 1px solid gray;flex-grow: 1;}#sk-container-id-2 div.sk-label:hover label.sk-toggleable__label {background-color: #d4ebff;}#sk-container-id-2 div.sk-serial::before {content: \"\";position: absolute;border-left: 1px solid gray;box-sizing: border-box;top: 0;bottom: 0;left: 50%;z-index: 0;}#sk-container-id-2 div.sk-serial {display: flex;flex-direction: column;align-items: center;background-color: white;padding-right: 0.2em;padding-left: 0.2em;position: relative;}#sk-container-id-2 div.sk-item {position: relative;z-index: 1;}#sk-container-id-2 div.sk-parallel {display: flex;align-items: stretch;justify-content: center;background-color: white;position: relative;}#sk-container-id-2 div.sk-item::before, #sk-container-id-2 div.sk-parallel-item::before {content: \"\";position: absolute;border-left: 1px solid gray;box-sizing: border-box;top: 0;bottom: 0;left: 50%;z-index: -1;}#sk-container-id-2 div.sk-parallel-item {display: flex;flex-direction: column;z-index: 1;position: relative;background-color: white;}#sk-container-id-2 div.sk-parallel-item:first-child::after {align-self: flex-end;width: 50%;}#sk-container-id-2 div.sk-parallel-item:last-child::after {align-self: flex-start;width: 50%;}#sk-container-id-2 div.sk-parallel-item:only-child::after {width: 0;}#sk-container-id-2 div.sk-dashed-wrapped {border: 1px dashed gray;margin: 0 0.4em 0.5em 0.4em;box-sizing: border-box;padding-bottom: 0.4em;background-color: white;}#sk-container-id-2 div.sk-label label {font-family: monospace;font-weight: bold;display: inline-block;line-height: 1.2em;}#sk-container-id-2 div.sk-label-container {text-align: center;}#sk-container-id-2 div.sk-container {/* jupyter's `normalize.less` sets `[hidden] { display: none; }` but bootstrap.min.css set `[hidden] { display: none !important; }` so we also need the `!important` here to be able to override the default hidden behavior on the sphinx rendered scikit-learn.org. See: https://github.com/scikit-learn/scikit-learn/issues/21755 */display: inline-block !important;position: relative;}#sk-container-id-2 div.sk-text-repr-fallback {display: none;}</style><div id=\"sk-container-id-2\" class=\"sk-top-container\"><div class=\"sk-text-repr-fallback\"><pre>Pipeline(steps=[(&#x27;poly_features&#x27;, PolynomialFeatures(degree=3)),\n",
       "                (&#x27;scaler&#x27;, StandardScaler()),\n",
       "                (&#x27;svm_clf&#x27;, LinearSVC(C=10, loss=&#x27;hinge&#x27;))])</pre><b>In a Jupyter environment, please rerun this cell to show the HTML representation or trust the notebook. <br />On GitHub, the HTML representation is unable to render, please try loading this page with nbviewer.org.</b></div><div class=\"sk-container\" hidden><div class=\"sk-item sk-dashed-wrapped\"><div class=\"sk-label-container\"><div class=\"sk-label sk-toggleable\"><input class=\"sk-toggleable__control sk-hidden--visually\" id=\"sk-estimator-id-5\" type=\"checkbox\" ><label for=\"sk-estimator-id-5\" class=\"sk-toggleable__label sk-toggleable__label-arrow\">Pipeline</label><div class=\"sk-toggleable__content\"><pre>Pipeline(steps=[(&#x27;poly_features&#x27;, PolynomialFeatures(degree=3)),\n",
       "                (&#x27;scaler&#x27;, StandardScaler()),\n",
       "                (&#x27;svm_clf&#x27;, LinearSVC(C=10, loss=&#x27;hinge&#x27;))])</pre></div></div></div><div class=\"sk-serial\"><div class=\"sk-item\"><div class=\"sk-estimator sk-toggleable\"><input class=\"sk-toggleable__control sk-hidden--visually\" id=\"sk-estimator-id-6\" type=\"checkbox\" ><label for=\"sk-estimator-id-6\" class=\"sk-toggleable__label sk-toggleable__label-arrow\">PolynomialFeatures</label><div class=\"sk-toggleable__content\"><pre>PolynomialFeatures(degree=3)</pre></div></div></div><div class=\"sk-item\"><div class=\"sk-estimator sk-toggleable\"><input class=\"sk-toggleable__control sk-hidden--visually\" id=\"sk-estimator-id-7\" type=\"checkbox\" ><label for=\"sk-estimator-id-7\" class=\"sk-toggleable__label sk-toggleable__label-arrow\">StandardScaler</label><div class=\"sk-toggleable__content\"><pre>StandardScaler()</pre></div></div></div><div class=\"sk-item\"><div class=\"sk-estimator sk-toggleable\"><input class=\"sk-toggleable__control sk-hidden--visually\" id=\"sk-estimator-id-8\" type=\"checkbox\" ><label for=\"sk-estimator-id-8\" class=\"sk-toggleable__label sk-toggleable__label-arrow\">LinearSVC</label><div class=\"sk-toggleable__content\"><pre>LinearSVC(C=10, loss=&#x27;hinge&#x27;)</pre></div></div></div></div></div></div></div>"
      ],
      "text/plain": [
       "Pipeline(steps=[('poly_features', PolynomialFeatures(degree=3)),\n",
       "                ('scaler', StandardScaler()),\n",
       "                ('svm_clf', LinearSVC(C=10, loss='hinge'))])"
      ]
     },
     "execution_count": 6,
     "metadata": {},
     "output_type": "execute_result"
    }
   ],
   "source": [
    "from sklearn.datasets import make_moons\n",
    "from sklearn.preprocessing import PolynomialFeatures\n",
    "\n",
    "X, y = make_moons(n_samples=100, noise = 0.15)\n",
    "polynomial_svm_clf = Pipeline([(\"poly_features\", PolynomialFeatures(degree = 3)),\n",
    "                              (\"scaler\", StandardScaler()),\n",
    "                              (\"svm_clf\", LinearSVC(C=10, loss=\"hinge\"))])\n",
    "polynomial_svm_clf.fit(X, y)"
   ]
  },
  {
   "cell_type": "code",
   "execution_count": 8,
   "id": "9491681c",
   "metadata": {},
   "outputs": [
    {
     "data": {
      "text/html": [
       "<style>#sk-container-id-3 {color: black;}#sk-container-id-3 pre{padding: 0;}#sk-container-id-3 div.sk-toggleable {background-color: white;}#sk-container-id-3 label.sk-toggleable__label {cursor: pointer;display: block;width: 100%;margin-bottom: 0;padding: 0.3em;box-sizing: border-box;text-align: center;}#sk-container-id-3 label.sk-toggleable__label-arrow:before {content: \"▸\";float: left;margin-right: 0.25em;color: #696969;}#sk-container-id-3 label.sk-toggleable__label-arrow:hover:before {color: black;}#sk-container-id-3 div.sk-estimator:hover label.sk-toggleable__label-arrow:before {color: black;}#sk-container-id-3 div.sk-toggleable__content {max-height: 0;max-width: 0;overflow: hidden;text-align: left;background-color: #f0f8ff;}#sk-container-id-3 div.sk-toggleable__content pre {margin: 0.2em;color: black;border-radius: 0.25em;background-color: #f0f8ff;}#sk-container-id-3 input.sk-toggleable__control:checked~div.sk-toggleable__content {max-height: 200px;max-width: 100%;overflow: auto;}#sk-container-id-3 input.sk-toggleable__control:checked~label.sk-toggleable__label-arrow:before {content: \"▾\";}#sk-container-id-3 div.sk-estimator input.sk-toggleable__control:checked~label.sk-toggleable__label {background-color: #d4ebff;}#sk-container-id-3 div.sk-label input.sk-toggleable__control:checked~label.sk-toggleable__label {background-color: #d4ebff;}#sk-container-id-3 input.sk-hidden--visually {border: 0;clip: rect(1px 1px 1px 1px);clip: rect(1px, 1px, 1px, 1px);height: 1px;margin: -1px;overflow: hidden;padding: 0;position: absolute;width: 1px;}#sk-container-id-3 div.sk-estimator {font-family: monospace;background-color: #f0f8ff;border: 1px dotted black;border-radius: 0.25em;box-sizing: border-box;margin-bottom: 0.5em;}#sk-container-id-3 div.sk-estimator:hover {background-color: #d4ebff;}#sk-container-id-3 div.sk-parallel-item::after {content: \"\";width: 100%;border-bottom: 1px solid gray;flex-grow: 1;}#sk-container-id-3 div.sk-label:hover label.sk-toggleable__label {background-color: #d4ebff;}#sk-container-id-3 div.sk-serial::before {content: \"\";position: absolute;border-left: 1px solid gray;box-sizing: border-box;top: 0;bottom: 0;left: 50%;z-index: 0;}#sk-container-id-3 div.sk-serial {display: flex;flex-direction: column;align-items: center;background-color: white;padding-right: 0.2em;padding-left: 0.2em;position: relative;}#sk-container-id-3 div.sk-item {position: relative;z-index: 1;}#sk-container-id-3 div.sk-parallel {display: flex;align-items: stretch;justify-content: center;background-color: white;position: relative;}#sk-container-id-3 div.sk-item::before, #sk-container-id-3 div.sk-parallel-item::before {content: \"\";position: absolute;border-left: 1px solid gray;box-sizing: border-box;top: 0;bottom: 0;left: 50%;z-index: -1;}#sk-container-id-3 div.sk-parallel-item {display: flex;flex-direction: column;z-index: 1;position: relative;background-color: white;}#sk-container-id-3 div.sk-parallel-item:first-child::after {align-self: flex-end;width: 50%;}#sk-container-id-3 div.sk-parallel-item:last-child::after {align-self: flex-start;width: 50%;}#sk-container-id-3 div.sk-parallel-item:only-child::after {width: 0;}#sk-container-id-3 div.sk-dashed-wrapped {border: 1px dashed gray;margin: 0 0.4em 0.5em 0.4em;box-sizing: border-box;padding-bottom: 0.4em;background-color: white;}#sk-container-id-3 div.sk-label label {font-family: monospace;font-weight: bold;display: inline-block;line-height: 1.2em;}#sk-container-id-3 div.sk-label-container {text-align: center;}#sk-container-id-3 div.sk-container {/* jupyter's `normalize.less` sets `[hidden] { display: none; }` but bootstrap.min.css set `[hidden] { display: none !important; }` so we also need the `!important` here to be able to override the default hidden behavior on the sphinx rendered scikit-learn.org. See: https://github.com/scikit-learn/scikit-learn/issues/21755 */display: inline-block !important;position: relative;}#sk-container-id-3 div.sk-text-repr-fallback {display: none;}</style><div id=\"sk-container-id-3\" class=\"sk-top-container\"><div class=\"sk-text-repr-fallback\"><pre>Pipeline(steps=[(&#x27;scaler&#x27;, StandardScaler()),\n",
       "                (&#x27;svm_clf&#x27;, SVC(C=5, coef0=1, kernel=&#x27;poly&#x27;))])</pre><b>In a Jupyter environment, please rerun this cell to show the HTML representation or trust the notebook. <br />On GitHub, the HTML representation is unable to render, please try loading this page with nbviewer.org.</b></div><div class=\"sk-container\" hidden><div class=\"sk-item sk-dashed-wrapped\"><div class=\"sk-label-container\"><div class=\"sk-label sk-toggleable\"><input class=\"sk-toggleable__control sk-hidden--visually\" id=\"sk-estimator-id-9\" type=\"checkbox\" ><label for=\"sk-estimator-id-9\" class=\"sk-toggleable__label sk-toggleable__label-arrow\">Pipeline</label><div class=\"sk-toggleable__content\"><pre>Pipeline(steps=[(&#x27;scaler&#x27;, StandardScaler()),\n",
       "                (&#x27;svm_clf&#x27;, SVC(C=5, coef0=1, kernel=&#x27;poly&#x27;))])</pre></div></div></div><div class=\"sk-serial\"><div class=\"sk-item\"><div class=\"sk-estimator sk-toggleable\"><input class=\"sk-toggleable__control sk-hidden--visually\" id=\"sk-estimator-id-10\" type=\"checkbox\" ><label for=\"sk-estimator-id-10\" class=\"sk-toggleable__label sk-toggleable__label-arrow\">StandardScaler</label><div class=\"sk-toggleable__content\"><pre>StandardScaler()</pre></div></div></div><div class=\"sk-item\"><div class=\"sk-estimator sk-toggleable\"><input class=\"sk-toggleable__control sk-hidden--visually\" id=\"sk-estimator-id-11\" type=\"checkbox\" ><label for=\"sk-estimator-id-11\" class=\"sk-toggleable__label sk-toggleable__label-arrow\">SVC</label><div class=\"sk-toggleable__content\"><pre>SVC(C=5, coef0=1, kernel=&#x27;poly&#x27;)</pre></div></div></div></div></div></div></div>"
      ],
      "text/plain": [
       "Pipeline(steps=[('scaler', StandardScaler()),\n",
       "                ('svm_clf', SVC(C=5, coef0=1, kernel='poly'))])"
      ]
     },
     "execution_count": 8,
     "metadata": {},
     "output_type": "execute_result"
    }
   ],
   "source": [
    "from sklearn.svm import SVC\n",
    "poly_kernel_svm_clf = Pipeline([(\"scaler\", StandardScaler()),\n",
    "                              (\"svm_clf\", SVC(kernel = \"poly\",\n",
    "                                             degree = 3,\n",
    "                                             coef0 = 1,\n",
    "                                             C = 5))])\n",
    "poly_kernel_svm_clf.fit(X, y)"
   ]
  },
  {
   "cell_type": "code",
   "execution_count": 54,
   "id": "a1cb53c4",
   "metadata": {},
   "outputs": [
    {
     "name": "stdout",
     "output_type": "stream",
     "text": [
      "Mean Squared Error: 0.7308920491974527\n"
     ]
    }
   ],
   "source": [
    "from sklearn.model_selection import train_test_split\n",
    "from sklearn.svm import SVR\n",
    "from sklearn.metrics import mean_squared_error\n",
    "\n",
    "X = final20[['평균연령', '총인구수', '스트레스인지율', '고용률', '코로나확진자수', '1인당 정신건강예산(원)', '공공시설개수']]\n",
    "y = final20['우울증지수']\n",
    "\n",
    "X_train, X_test, y_train, y_test = train_test_split(X, y, random_state=42)\n",
    "\n",
    "svm_regressor = SVR(kernel='rbf', C=10, gamma=1)\n",
    "\n",
    "svm_regressor.fit(X_train, y_train)\n",
    "\n",
    "# 테스트 데이터에 대한 예측\n",
    "y_pred = svm_regressor.predict(X_test)\n",
    "\n",
    "# 평가 지표 출력\n",
    "mse = mean_squared_error(y_test, y_pred)\n",
    "print(f\"Mean Squared Error: {mse}\")\n"
   ]
  },
  {
   "cell_type": "code",
   "execution_count": null,
   "id": "1803f424",
   "metadata": {},
   "outputs": [],
   "source": [
    "result_df = pd.DataFrame({'실제값': y_test, '예측값': y_pred})\n",
    "\n",
    "# 결과 출력\n",
    "result_df"
   ]
  },
  {
   "cell_type": "code",
   "execution_count": 52,
   "id": "fb9035ee",
   "metadata": {},
   "outputs": [
    {
     "name": "stdout",
     "output_type": "stream",
     "text": [
      "최적의 gamma: {'gamma': 1}\n",
      "최적의 평균 제곱 오차 (MSE): 1.2469586232059757\n",
      "             params  mean_test_score  std_test_score\n",
      "0  {'gamma': 0.001}        -1.383761        0.241757\n",
      "1   {'gamma': 0.01}        -1.343133        0.248647\n",
      "2    {'gamma': 0.1}        -1.253712        0.252778\n",
      "3      {'gamma': 1}        -1.246959        0.216296\n",
      "4     {'gamma': 10}        -1.426810        0.219736\n",
      "5    {'gamma': 100}        -1.593431        0.255108\n",
      "테스트 세트 MSE: 0.8477339965948358\n"
     ]
    }
   ],
   "source": [
    "# 그리드서치로 최적의 gamma값 찾기 -> 1\n",
    "from sklearn.svm import SVR\n",
    "from sklearn.model_selection import GridSearchCV, cross_val_score\n",
    "from sklearn.model_selection import train_test_split\n",
    "import pandas as pd\n",
    "\n",
    "# 데이터 준비 (final20 데이터셋 사용)\n",
    "# X, y를 적절히 설정하여 데이터를 준비하세요.\n",
    "X = final20[['평균연령', '총인구수', '스트레스인지율', '고용률', '코로나확진자수', '1인당 정신건강예산(원)', '공공시설개수']]\n",
    "y = final20['우울증지수']\n",
    "\n",
    "# 훈련 세트와 테스트 세트로 나누기\n",
    "X_train, X_test, y_train, y_test = train_test_split(X, y, random_state=42)\n",
    "\n",
    "# SVR 모델 정의\n",
    "svr_model = SVR(kernel='rbf')\n",
    "\n",
    "# 탐색할 gamma 값의 후보 리스트 정의\n",
    "gamma_candidates = [0.001, 0.01, 0.1, 1, 10, 100]\n",
    "\n",
    "# 그리드 서치를 위한 매개변수 그리드 생성\n",
    "param_grid = {'gamma': gamma_candidates}\n",
    "\n",
    "# 5-폴드 교차 검증을 사용하여 그리드 서치 수행\n",
    "grid_search = GridSearchCV(svr_model, param_grid, cv=5, scoring='neg_mean_squared_error')\n",
    "grid_search.fit(X_train, y_train)\n",
    "\n",
    "# 최적의 파라미터와 성능 출력\n",
    "print(\"최적의 gamma:\", grid_search.best_params_)\n",
    "print(\"최적의 평균 제곱 오차 (MSE):\", -grid_search.best_score_)\n",
    "\n",
    "# 각 gamma 값에 대한 성능 출력\n",
    "results = pd.DataFrame(grid_search.cv_results_)\n",
    "print(results[['params', 'mean_test_score', 'std_test_score']])\n",
    "\n",
    "# 테스트 세트에서 모델 평가\n",
    "best_model = grid_search.best_estimator_\n",
    "y_pred = best_model.predict(X_test)\n",
    "mse_test = mean_squared_error(y_test, y_pred)\n",
    "print(f\"테스트 세트 MSE: {mse_test}\")"
   ]
  },
  {
   "cell_type": "code",
   "execution_count": 51,
   "id": "19fb58fa",
   "metadata": {},
   "outputs": [
    {
     "name": "stdout",
     "output_type": "stream",
     "text": [
      "최적의 C: {'C': 100}\n",
      "최적의 평균 제곱 오차 (MSE): 1.295956707463933\n",
      "         params  mean_test_score  std_test_score\n",
      "0  {'C': 0.001}        -1.585824        0.258518\n",
      "1   {'C': 0.01}        -1.539667        0.259696\n",
      "2    {'C': 0.1}        -1.467854        0.250456\n",
      "3      {'C': 1}        -1.360499        0.239940\n",
      "4     {'C': 10}        -1.325776        0.246007\n",
      "5    {'C': 100}        -1.295957        0.257454\n",
      "테스트 세트 MSE: 0.9516951989965897\n"
     ]
    }
   ],
   "source": [
    "from sklearn.svm import SVR\n",
    "from sklearn.model_selection import GridSearchCV, cross_val_score\n",
    "from sklearn.model_selection import train_test_split\n",
    "import pandas as pd\n",
    "\n",
    "# 데이터 준비 (final20 데이터셋 사용)\n",
    "X = final20[['평균연령', '총인구수', '스트레스인지율', '고용률', '코로나확진자수', '1인당 정신건강예산(원)', '공공시설개수']]\n",
    "y = final20['우울증지수']\n",
    "\n",
    "# 훈련 세트와 테스트 세트로 나누기\n",
    "X_train, X_test, y_train, y_test = train_test_split(X, y, random_state=42)\n",
    "\n",
    "# SVR 모델 정의\n",
    "svr_model = SVR(kernel='rbf')\n",
    "\n",
    "# 탐색할 C 값의 후보 리스트 정의\n",
    "C_candidates = [0.001, 0.01, 0.1, 1, 10, 100]\n",
    "\n",
    "# 그리드 서치를 위한 매개변수 그리드 생성\n",
    "param_grid = {'C': C_candidates}\n",
    "\n",
    "# 5-폴드 교차 검증을 사용하여 그리드 서치 수행\n",
    "grid_search = GridSearchCV(svr_model, param_grid, cv=5, scoring='neg_mean_squared_error')\n",
    "grid_search.fit(X_train, y_train)\n",
    "\n",
    "# 최적의 파라미터와 성능 출력\n",
    "print(\"최적의 C:\", grid_search.best_params_)\n",
    "print(\"최적의 평균 제곱 오차 (MSE):\", -grid_search.best_score_)\n",
    "\n",
    "# 각 C 값에 대한 성능 출력\n",
    "results = pd.DataFrame(grid_search.cv_results_)\n",
    "print(results[['params', 'mean_test_score', 'std_test_score']])\n",
    "\n",
    "# 테스트 세트에서 모델 평가\n",
    "best_model = grid_search.best_estimator_\n",
    "y_pred = best_model.predict(X_test)\n",
    "mse_test = mean_squared_error(y_test, y_pred)\n",
    "print(f\"테스트 세트 MSE: {mse_test}\")"
   ]
  },
  {
   "cell_type": "code",
   "execution_count": null,
   "id": "5043a349",
   "metadata": {},
   "outputs": [],
   "source": []
  },
  {
   "cell_type": "code",
   "execution_count": 66,
   "id": "b31273ce",
   "metadata": {},
   "outputs": [
    {
     "name": "stdout",
     "output_type": "stream",
     "text": [
      "Best k value: 3\n"
     ]
    }
   ],
   "source": [
    "# 최적의 k값 구하기\n",
    "from sklearn.feature_selection import SelectKBest, f_regression\n",
    "from sklearn.model_selection import GridSearchCV\n",
    "from sklearn.svm import SVR\n",
    "from sklearn.pipeline import Pipeline\n",
    "\n",
    "# 예제 데이터셋과 변수\n",
    "X = final20[['평균연령', '총인구수', '스트레스인지율', '고용률', '코로나확진자수', '1인당 정신건강예산(원)', '공공시설개수']]\n",
    "y = final20['우울증지수']\n",
    "\n",
    "# SVM 모델 정의\n",
    "svm_regressor = SVR(kernel='rbf', C=100, gamma=1)\n",
    "\n",
    "# SelectKBest를 사용한 변수 선택\n",
    "k_best = SelectKBest(f_regression)\n",
    "\n",
    "# Pipeline 정의\n",
    "pipeline = Pipeline([('selectkbest', k_best), ('svr', svm_regressor)])\n",
    "\n",
    "# 탐색할 k 값의 범위 설정\n",
    "param_grid = {'selectkbest__k': list(range(1, 8))}\n",
    "\n",
    "# GridSearchCV를 사용하여 최적의 k 값 찾기\n",
    "grid_search = GridSearchCV(pipeline, param_grid, cv=5, scoring='neg_mean_squared_error')\n",
    "grid_search.fit(X, y)\n",
    "\n",
    "# 최적의 k 값 출력\n",
    "best_k = grid_search.best_params_['selectkbest__k']\n",
    "print(f\"Best k value: {best_k}\")"
   ]
  },
  {
   "cell_type": "code",
   "execution_count": 67,
   "id": "e6dfed1a",
   "metadata": {},
   "outputs": [
    {
     "name": "stdout",
     "output_type": "stream",
     "text": [
      "Selected features: Index(['평균연령', '총인구수', '고용률'], dtype='object')\n"
     ]
    }
   ],
   "source": [
    "# 종속변수와 가장 상관관계가 강한 3개의 특성 선택됨\n",
    "# 상관관계가 높다고 해서 항상 변수가 유용하다고는 할 수 없음\n",
    "from sklearn.feature_selection import SelectKBest, f_regression\n",
    "from sklearn.svm import SVR\n",
    "from sklearn.model_selection import train_test_split\n",
    "from sklearn.metrics import mean_squared_error\n",
    "\n",
    "# 예제 데이터셋과 변수\n",
    "X = final20[['평균연령', '총인구수', '스트레스인지율', '고용률', '코로나확진자수', '1인당 정신건강예산(원)', '공공시설개수']]\n",
    "y = final20['우울증지수']\n",
    "\n",
    "# 데이터 분할\n",
    "X_train, X_test, y_train, y_test = train_test_split(X, y, random_state=42)\n",
    "\n",
    "# SelectKBest를 사용한 변수 선택\n",
    "k_best = SelectKBest(f_regression, k=3)\n",
    "X_train_kbest = k_best.fit_transform(X_train, y_train)\n",
    "selected_features_mask = k_best.get_support()\n",
    "selected_features = X.columns[selected_features_mask]\n",
    "\n",
    "print(\"Selected features:\", selected_features)"
   ]
  },
  {
   "cell_type": "code",
   "execution_count": 68,
   "id": "f81632a1",
   "metadata": {},
   "outputs": [
    {
     "name": "stdout",
     "output_type": "stream",
     "text": [
      "최적의 gamma: {'gamma': 10}\n",
      "최적의 평균 제곱 오차 (MSE): 1.0810018905791954\n",
      "             params  mean_test_score  std_test_score\n",
      "0  {'gamma': 0.001}        -1.427871        0.240485\n",
      "1   {'gamma': 0.01}        -1.375348        0.235176\n",
      "2    {'gamma': 0.1}        -1.276786        0.235559\n",
      "3      {'gamma': 1}        -1.150112        0.222005\n",
      "4     {'gamma': 10}        -1.081002        0.195728\n",
      "5    {'gamma': 100}        -1.266935        0.221555\n",
      "테스트 세트 MSE: 0.7922429380482555\n"
     ]
    }
   ],
   "source": [
    "from sklearn.svm import SVR\n",
    "from sklearn.model_selection import GridSearchCV, cross_val_score\n",
    "from sklearn.model_selection import train_test_split\n",
    "import pandas as pd\n",
    "\n",
    "# 데이터 준비 (final20 데이터셋 사용)\n",
    "# X, y를 적절히 설정하여 데이터를 준비하세요.\n",
    "X = final20[['평균연령', '총인구수', '고용률']]\n",
    "y = final20['우울증지수']\n",
    "\n",
    "# 훈련 세트와 테스트 세트로 나누기\n",
    "X_train, X_test, y_train, y_test = train_test_split(X, y, random_state=42)\n",
    "\n",
    "# SVR 모델 정의\n",
    "svr_model = SVR(kernel='rbf')\n",
    "\n",
    "# 탐색할 gamma 값의 후보 리스트 정의\n",
    "gamma_candidates = [0.001, 0.01, 0.1, 1, 10, 100]\n",
    "\n",
    "# 그리드 서치를 위한 매개변수 그리드 생성\n",
    "param_grid = {'gamma': gamma_candidates}\n",
    "\n",
    "# 5-폴드 교차 검증을 사용하여 그리드 서치 수행\n",
    "grid_search = GridSearchCV(svr_model, param_grid, cv=5, scoring='neg_mean_squared_error')\n",
    "grid_search.fit(X_train, y_train)\n",
    "\n",
    "# 최적의 파라미터와 성능 출력\n",
    "print(\"최적의 gamma:\", grid_search.best_params_)\n",
    "print(\"최적의 평균 제곱 오차 (MSE):\", -grid_search.best_score_)\n",
    "\n",
    "# 각 gamma 값에 대한 성능 출력\n",
    "results = pd.DataFrame(grid_search.cv_results_)\n",
    "print(results[['params', 'mean_test_score', 'std_test_score']])\n",
    "\n",
    "# 테스트 세트에서 모델 평가\n",
    "best_model = grid_search.best_estimator_\n",
    "y_pred = best_model.predict(X_test)\n",
    "mse_test = mean_squared_error(y_test, y_pred)\n",
    "print(f\"테스트 세트 MSE: {mse_test}\")"
   ]
  },
  {
   "cell_type": "code",
   "execution_count": 69,
   "id": "3e53da37",
   "metadata": {},
   "outputs": [
    {
     "name": "stdout",
     "output_type": "stream",
     "text": [
      "최적의 C: {'C': 100}\n",
      "최적의 평균 제곱 오차 (MSE): 1.1011007870495408\n",
      "         params  mean_test_score  std_test_score\n",
      "0  {'C': 0.001}        -1.545796        0.253549\n",
      "1   {'C': 0.01}        -1.389809        0.231868\n",
      "2    {'C': 0.1}        -1.279217        0.221891\n",
      "3      {'C': 1}        -1.164482        0.230139\n",
      "4     {'C': 10}        -1.113444        0.214021\n",
      "5    {'C': 100}        -1.101101        0.202934\n",
      "테스트 세트 MSE: 0.9556872147724419\n"
     ]
    }
   ],
   "source": [
    "from sklearn.svm import SVR\n",
    "from sklearn.model_selection import GridSearchCV, cross_val_score\n",
    "from sklearn.model_selection import train_test_split\n",
    "import pandas as pd\n",
    "\n",
    "# 데이터 준비 (final20 데이터셋 사용)\n",
    "X = final20[['평균연령', '총인구수', '고용률']]\n",
    "y = final20['우울증지수']\n",
    "\n",
    "# 훈련 세트와 테스트 세트로 나누기\n",
    "X_train, X_test, y_train, y_test = train_test_split(X, y, random_state=42)\n",
    "\n",
    "# SVR 모델 정의\n",
    "svr_model = SVR(kernel='rbf')\n",
    "\n",
    "# 탐색할 C 값의 후보 리스트 정의\n",
    "C_candidates = [0.001, 0.01, 0.1, 1, 10, 100]\n",
    "\n",
    "# 그리드 서치를 위한 매개변수 그리드 생성\n",
    "param_grid = {'C': C_candidates}\n",
    "\n",
    "# 5-폴드 교차 검증을 사용하여 그리드 서치 수행\n",
    "grid_search = GridSearchCV(svr_model, param_grid, cv=5, scoring='neg_mean_squared_error')\n",
    "grid_search.fit(X_train, y_train)\n",
    "\n",
    "# 최적의 파라미터와 성능 출력\n",
    "print(\"최적의 C:\", grid_search.best_params_)\n",
    "print(\"최적의 평균 제곱 오차 (MSE):\", -grid_search.best_score_)\n",
    "\n",
    "# 각 C 값에 대한 성능 출력\n",
    "results = pd.DataFrame(grid_search.cv_results_)\n",
    "print(results[['params', 'mean_test_score', 'std_test_score']])\n",
    "\n",
    "# 테스트 세트에서 모델 평가\n",
    "best_model = grid_search.best_estimator_\n",
    "y_pred = best_model.predict(X_test)\n",
    "mse_test = mean_squared_error(y_test, y_pred)\n",
    "print(f\"테스트 세트 MSE: {mse_test}\")"
   ]
  },
  {
   "cell_type": "code",
   "execution_count": 82,
   "id": "c5581bba",
   "metadata": {},
   "outputs": [
    {
     "name": "stdout",
     "output_type": "stream",
     "text": [
      "Mean Squared Error: 1.0992650849955083\n"
     ]
    }
   ],
   "source": [
    "from sklearn.model_selection import train_test_split\n",
    "from sklearn.svm import SVR\n",
    "from sklearn.metrics import mean_squared_error\n",
    "\n",
    "X = final20[['평균연령', '총인구수', '고용률']]\n",
    "y = final20['우울증지수']\n",
    "\n",
    "X_train, X_test, y_train, y_test = train_test_split(X, y, random_state=42)\n",
    "\n",
    "svm_regressor = SVR(kernel='rbf', C=100, gamma=10)\n",
    "\n",
    "svm_regressor.fit(X_train, y_train)\n",
    "\n",
    "# 테스트 데이터에 대한 예측\n",
    "y_pred = svm_regressor.predict(X_test)\n",
    "\n",
    "# 평가 지표 출력\n",
    "mse = mean_squared_error(y_test, y_pred)\n",
    "print(f\"Mean Squared Error: {mse}\")ㅊ"
   ]
  },
  {
   "cell_type": "code",
   "execution_count": 81,
   "id": "54ef6915",
   "metadata": {},
   "outputs": [
    {
     "name": "stdout",
     "output_type": "stream",
     "text": [
      "Training Set Mean Squared Error: 0.339012607310212\n",
      "Validation Set Mean Squared Error: 1.0992650849955083\n"
     ]
    }
   ],
   "source": [
    "from sklearn.model_selection import train_test_split\n",
    "from sklearn.svm import SVR\n",
    "from sklearn.metrics import mean_squared_error\n",
    "\n",
    "X = final20[['평균연령', '총인구수', '고용률']]\n",
    "y = final20['우울증지수']\n",
    "\n",
    "X_train, X_test, y_train, y_test = train_test_split(X, y, random_state=42)\n",
    "\n",
    "svm_regressor = SVR(kernel='rbf', C=100, gamma=10)\n",
    "\n",
    "svm_regressor.fit(X_train, y_train)\n",
    "\n",
    "# 훈련 세트에서의 예측\n",
    "y_train_pred = svm_regressor.predict(X_train)\n",
    "\n",
    "# 검증 세트에서의 예측\n",
    "y_val_pred = svm_regressor.predict(X_test)\n",
    "\n",
    "# 훈련 세트에서의 평가 지표 계산 (MSE 사용)\n",
    "mse_train = mean_squared_error(y_train, y_train_pred)\n",
    "print(f\"Training Set Mean Squared Error: {mse_train}\")\n",
    "\n",
    "# 검증 세트에서의 평가 지표 계산 (MSE 사용)\n",
    "mse_val = mean_squared_error(y_test, y_val_pred)\n",
    "print(f\"Validation Set Mean Squared Error: {mse_val}\")"
   ]
  },
  {
   "cell_type": "code",
   "execution_count": 85,
   "id": "a14c6c3d",
   "metadata": {},
   "outputs": [
    {
     "name": "stdout",
     "output_type": "stream",
     "text": [
      "Training Set Mean Squared Error: 0.009424064293490797\n",
      "Validation Set Mean Squared Error: 0.9439606231157293\n"
     ]
    }
   ],
   "source": [
    "from sklearn.model_selection import train_test_split\n",
    "from sklearn.metrics import mean_squared_error\n",
    "from sklearn.preprocessing import PolynomialFeatures\n",
    "from sklearn.linear_model import LinearRegression\n",
    "\n",
    "# 데이터 생성 또는 불러오기\n",
    "X = final20[['평균연령', '총인구수', '스트레스인지율', '고용률', '코로나확진자수', '1인당 정신건강예산(원)', '공공시설개수']]\n",
    "y = final20['우울증지수']\n",
    "\n",
    "# 데이터를 훈련 세트와 검증 세트로 나누기\n",
    "X_train, X_val, y_train, y_val = train_test_split(X, y, random_state=42)\n",
    "\n",
    "svm_regressor = SVR(kernel='rbf', C=100, gamma=10)\n",
    "\n",
    "svm_regressor.fit(X_train, y_train)\n",
    "\n",
    "# 훈련 세트에서의 예측\n",
    "y_train_pred = svm_regressor.predict(X_train)\n",
    "\n",
    "# 검증 세트에서의 예측\n",
    "y_val_pred = svm_regressor.predict(X_val)\n",
    "\n",
    "# 훈련 세트에서의 평가 지표 계산 (MSE 사용)\n",
    "mse_train = mean_squared_error(y_train, y_train_pred)\n",
    "print(f\"Training Set Mean Squared Error: {mse_train}\")\n",
    "\n",
    "# 검증 세트에서의 평가 지표 계산 (MSE 사용)\n",
    "mse_val = mean_squared_error(y_test, y_val_pred)\n",
    "print(f\"Validation Set Mean Squared Error: {mse_val}\")"
   ]
  },
  {
   "cell_type": "code",
   "execution_count": 86,
   "id": "47cae26a",
   "metadata": {},
   "outputs": [
    {
     "name": "stdout",
     "output_type": "stream",
     "text": [
      "Selected features: Index(['총인구수', '고용률', '공공시설개수'], dtype='object')\n"
     ]
    }
   ],
   "source": [
    "from sklearn.feature_selection import RFE\n",
    "from sklearn.ensemble import RandomForestRegressor\n",
    "\n",
    "# 예제 데이터셋과 변수\n",
    "X = final20[['평균연령', '총인구수', '스트레스인지율', '고용률', '코로나확진자수', '1인당 정신건강예산(원)', '공공시설개수']]\n",
    "y = final20['우울증지수']\n",
    "\n",
    "# 모델 정의\n",
    "model = RandomForestRegressor()\n",
    "\n",
    "# RFE를 사용하여 변수 선택 (여기서는 3개 선택)\n",
    "rfe = RFE(model, n_features_to_select=3)\n",
    "X_rfe = rfe.fit_transform(X, y)\n",
    "\n",
    "# 선택된 변수 출력\n",
    "selected_features = X.columns[rfe.support_]\n",
    "print(\"Selected features:\", selected_features)"
   ]
  },
  {
   "cell_type": "code",
   "execution_count": 87,
   "id": "68cb2d5f",
   "metadata": {},
   "outputs": [
    {
     "name": "stdout",
     "output_type": "stream",
     "text": [
      "Feature importance: [0.10951809 0.40311788 0.09003799 0.14506851 0.05392204 0.06246228\n",
      " 0.1358732 ]\n",
      "Selected features: Index(['총인구수', '고용률', '공공시설개수'], dtype='object')\n"
     ]
    }
   ],
   "source": [
    "from sklearn.ensemble import RandomForestRegressor\n",
    "\n",
    "# 예제 데이터셋과 변수\n",
    "X = final20[['평균연령', '총인구수', '스트레스인지율', '고용률', '코로나확진자수', '1인당 정신건강예산(원)', '공공시설개수']]\n",
    "y = final20['우울증지수']\n",
    "\n",
    "# 모델 정의\n",
    "model = RandomForestRegressor()\n",
    "\n",
    "# 모델을 훈련하여 변수의 중요도 측정\n",
    "model.fit(X, y)\n",
    "\n",
    "# 변수의 중요도 출력\n",
    "feature_importance = model.feature_importances_\n",
    "print(\"Feature importance:\", feature_importance)\n",
    "\n",
    "# 중요도가 높은 상위 3개 변수 선택\n",
    "selected_features = X.columns[np.argsort(feature_importance)[::-1][:3]]\n",
    "print(\"Selected features:\", selected_features)"
   ]
  },
  {
   "cell_type": "code",
   "execution_count": 91,
   "id": "8b4af64d",
   "metadata": {},
   "outputs": [
    {
     "name": "stdout",
     "output_type": "stream",
     "text": [
      "Training Set Mean Squared Error: 0.31504886193004156\n",
      "Validation Set Mean Squared Error: 1.141911215193316\n"
     ]
    }
   ],
   "source": [
    "from sklearn.model_selection import train_test_split\n",
    "from sklearn.svm import SVR\n",
    "from sklearn.metrics import mean_squared_error\n",
    "\n",
    "X = final20[['총인구수', '고용률', '공공시설개수']]\n",
    "y = final20['우울증지수']\n",
    "\n",
    "X_train, X_test, y_train, y_test = train_test_split(X, y, random_state=42)\n",
    "\n",
    "svm_regressor = SVR(kernel='rbf', C=100, gamma=10)\n",
    "\n",
    "svm_regressor.fit(X_train, y_train)\n",
    "\n",
    "# 훈련 세트에서의 예측\n",
    "y_train_pred = svm_regressor.predict(X_train)\n",
    "\n",
    "# 검증 세트에서의 예측\n",
    "y_val_pred = svm_regressor.predict(X_test)\n",
    "\n",
    "# 훈련 세트에서의 평가 지표 계산 (MSE 사용)\n",
    "mse_train = mean_squared_error(y_train, y_train_pred)\n",
    "print(f\"Training Set Mean Squared Error: {mse_train}\")\n",
    "\n",
    "# 검증 세트에서의 평가 지표 계산 (MSE 사용)\n",
    "mse_val = mean_squared_error(y_test, y_val_pred)\n",
    "print(f\"Validation Set Mean Squared Error: {mse_val}\")"
   ]
  },
  {
   "cell_type": "code",
   "execution_count": 104,
   "id": "ad595be7",
   "metadata": {},
   "outputs": [
    {
     "name": "stdout",
     "output_type": "stream",
     "text": [
      "0.9439606231157293\n",
      "-------------------\n",
      "rmse 점수: [0.91396361 0.88436423 0.74839474 0.6582817  0.82649714 0.79928733\n",
      " 0.91037056]\n",
      "평균 rmse: 0.8201656166953759\n",
      "rmse 표준편차: 0.08692353576491577\n"
     ]
    }
   ],
   "source": [
    "X = final20[['평균연령', '총인구수', '스트레스인지율', '고용률', '코로나확진자수', '1인당 정신건강예산(원)', '공공시설개수']]\n",
    "y = final20['우울증지수']\n",
    "\n",
    "\n",
    "\n",
    "X_train, X_test, y_train, y_test = train_test_split(X, y, \n",
    "                                                    random_state = 42)\n",
    "\n",
    "svm_regressor = SVR(kernel='rbf', C=100, gamma=10)\n",
    "\n",
    "svm_regressor.fit(X_train, y_train)\n",
    "\n",
    "y_train_pred = svm_regressor.predict(X_train)\n",
    "\n",
    "# 검증 세트에서의 예측\n",
    "y_test_pred = svm_regressor.predict(X_test)\n",
    "\n",
    "\n",
    "mse = mean_squared_error(y_test, y_test_pred)\n",
    "print(mse)\n",
    "\n",
    "\n",
    "\n",
    "from sklearn.model_selection import cross_val_score\n",
    "\n",
    "scores = cross_val_score(model, X, y,\n",
    "                         scoring='neg_mean_squared_error', cv=7)\n",
    "tree_rmse_scores = np.sqrt(-scores)\n",
    "\n",
    "def display_scores(scores):\n",
    "    print(\"-------------------\")\n",
    "    print(\"rmse 점수:\", scores)\n",
    "    print(\"평균 rmse:\", scores.mean())\n",
    "    print(\"rmse 표준편차:\", scores.std())\n",
    "    \n",
    "display_scores(tree_rmse_scores)"
   ]
  },
  {
   "cell_type": "markdown",
   "id": "14cb08a0",
   "metadata": {},
   "source": [
    "X = final20[['평균연령', '총인구수', '스트레스인지율', '고용률',   \n",
    "            '코로나확진자수', '1인당 정신건강예산(원)', '공공시설개수']]  \n",
    "y = final20['우울증지수']\n",
    "\n",
    "Training Set Mean Squared Error: 0.009424064293490797  \n",
    "Validation Set Mean Squared Error: 0.9439606231157293  \n",
    "\n",
    "일때의 결과가 SVR 모델의 가장 최적의 성능이지만 조금 과대적합의 경향이 있음  \n",
    "\n",
    "다항 회귀의 결과가  \n",
    "Train MSE: 1.0193099152540395  \n",
    "Validation MSE: 0.8762869715877589  \n",
    "로 나오므로 성능이 더 좋음"
   ]
  }
 ],
 "metadata": {
  "kernelspec": {
   "display_name": "Python 3 (ipykernel)",
   "language": "python",
   "name": "python3"
  },
  "language_info": {
   "codemirror_mode": {
    "name": "ipython",
    "version": 3
   },
   "file_extension": ".py",
   "mimetype": "text/x-python",
   "name": "python",
   "nbconvert_exporter": "python",
   "pygments_lexer": "ipython3",
   "version": "3.11.5"
  }
 },
 "nbformat": 4,
 "nbformat_minor": 5
}
