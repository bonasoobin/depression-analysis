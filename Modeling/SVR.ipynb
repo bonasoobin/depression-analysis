{
 "cells": [
  {
   "cell_type": "code",
   "execution_count": 1,
   "id": "386cd5f7",
   "metadata": {},
   "outputs": [
    {
     "data": {
      "text/html": [
       "<div>\n",
       "<style scoped>\n",
       "    .dataframe tbody tr th:only-of-type {\n",
       "        vertical-align: middle;\n",
       "    }\n",
       "\n",
       "    .dataframe tbody tr th {\n",
       "        vertical-align: top;\n",
       "    }\n",
       "\n",
       "    .dataframe thead th {\n",
       "        text-align: right;\n",
       "    }\n",
       "</style>\n",
       "<table border=\"1\" class=\"dataframe\">\n",
       "  <thead>\n",
       "    <tr style=\"text-align: right;\">\n",
       "      <th></th>\n",
       "      <th>시도</th>\n",
       "      <th>시군구</th>\n",
       "      <th>행정번호</th>\n",
       "      <th>년도</th>\n",
       "      <th>우울증환자수</th>\n",
       "      <th>평균연령</th>\n",
       "      <th>총인구수</th>\n",
       "      <th>스트레스인지율</th>\n",
       "      <th>고용률</th>\n",
       "      <th>코로나확진자수</th>\n",
       "      <th>1인당 정신건강예산(원)</th>\n",
       "      <th>공공시설개수</th>\n",
       "      <th>우울증지수</th>\n",
       "    </tr>\n",
       "  </thead>\n",
       "  <tbody>\n",
       "    <tr>\n",
       "      <th>0</th>\n",
       "      <td>서울특별시</td>\n",
       "      <td>서울종로구</td>\n",
       "      <td>1111000000</td>\n",
       "      <td>2018</td>\n",
       "      <td>14837</td>\n",
       "      <td>44.2</td>\n",
       "      <td>153065</td>\n",
       "      <td>34.2</td>\n",
       "      <td>59.6</td>\n",
       "      <td>0</td>\n",
       "      <td>5326</td>\n",
       "      <td>44</td>\n",
       "      <td>9.693268</td>\n",
       "    </tr>\n",
       "    <tr>\n",
       "      <th>1</th>\n",
       "      <td>서울특별시</td>\n",
       "      <td>서울중구</td>\n",
       "      <td>1114000000</td>\n",
       "      <td>2018</td>\n",
       "      <td>4352</td>\n",
       "      <td>44.6</td>\n",
       "      <td>125725</td>\n",
       "      <td>28.3</td>\n",
       "      <td>59.6</td>\n",
       "      <td>0</td>\n",
       "      <td>5326</td>\n",
       "      <td>42</td>\n",
       "      <td>3.461523</td>\n",
       "    </tr>\n",
       "    <tr>\n",
       "      <th>2</th>\n",
       "      <td>서울특별시</td>\n",
       "      <td>서울용산구</td>\n",
       "      <td>1117000000</td>\n",
       "      <td>2018</td>\n",
       "      <td>2370</td>\n",
       "      <td>43.6</td>\n",
       "      <td>228999</td>\n",
       "      <td>20.0</td>\n",
       "      <td>59.6</td>\n",
       "      <td>0</td>\n",
       "      <td>5326</td>\n",
       "      <td>53</td>\n",
       "      <td>1.034939</td>\n",
       "    </tr>\n",
       "    <tr>\n",
       "      <th>3</th>\n",
       "      <td>서울특별시</td>\n",
       "      <td>서울성동구</td>\n",
       "      <td>1120000000</td>\n",
       "      <td>2018</td>\n",
       "      <td>3657</td>\n",
       "      <td>42.0</td>\n",
       "      <td>308221</td>\n",
       "      <td>31.3</td>\n",
       "      <td>59.6</td>\n",
       "      <td>0</td>\n",
       "      <td>5326</td>\n",
       "      <td>50</td>\n",
       "      <td>1.186486</td>\n",
       "    </tr>\n",
       "    <tr>\n",
       "      <th>4</th>\n",
       "      <td>서울특별시</td>\n",
       "      <td>서울광진구</td>\n",
       "      <td>1121500000</td>\n",
       "      <td>2018</td>\n",
       "      <td>6917</td>\n",
       "      <td>41.4</td>\n",
       "      <td>355559</td>\n",
       "      <td>29.4</td>\n",
       "      <td>59.6</td>\n",
       "      <td>0</td>\n",
       "      <td>5326</td>\n",
       "      <td>47</td>\n",
       "      <td>1.945387</td>\n",
       "    </tr>\n",
       "  </tbody>\n",
       "</table>\n",
       "</div>"
      ],
      "text/plain": [
       "      시도    시군구        행정번호    년도  우울증환자수  평균연령    총인구수  스트레스인지율   고용률  \\\n",
       "0  서울특별시  서울종로구  1111000000  2018   14837  44.2  153065     34.2  59.6   \n",
       "1  서울특별시   서울중구  1114000000  2018    4352  44.6  125725     28.3  59.6   \n",
       "2  서울특별시  서울용산구  1117000000  2018    2370  43.6  228999     20.0  59.6   \n",
       "3  서울특별시  서울성동구  1120000000  2018    3657  42.0  308221     31.3  59.6   \n",
       "4  서울특별시  서울광진구  1121500000  2018    6917  41.4  355559     29.4  59.6   \n",
       "\n",
       "   코로나확진자수  1인당 정신건강예산(원)  공공시설개수     우울증지수  \n",
       "0        0           5326      44  9.693268  \n",
       "1        0           5326      42  3.461523  \n",
       "2        0           5326      53  1.034939  \n",
       "3        0           5326      50  1.186486  \n",
       "4        0           5326      47  1.945387  "
      ]
     },
     "execution_count": 1,
     "metadata": {},
     "output_type": "execute_result"
    }
   ],
   "source": [
    "import pandas as pd\n",
    "final = pd.read_csv(r'final.csv', encoding = 'CP949')\n",
    "final.head(5)"
   ]
  },
  {
   "cell_type": "code",
   "execution_count": 2,
   "id": "1badf0fd",
   "metadata": {},
   "outputs": [],
   "source": [
    "from sklearn.metrics import mean_squared_error\n",
    "from sklearn.pipeline import make_pipeline\n",
    "from sklearn.metrics import r2_score\n",
    "from sklearn.preprocessing import RobustScaler\n",
    "from sklearn.model_selection import cross_val_score\n",
    "import numpy as np\n",
    "from sklearn.svm import SVR\n",
    "from sklearn.model_selection import cross_val_predict\n",
    "from sklearn.model_selection import GridSearchCV\n",
    "from sklearn.model_selection import train_test_split"
   ]
  },
  {
   "cell_type": "code",
   "execution_count": 10,
   "id": "ed3bcd99",
   "metadata": {},
   "outputs": [
    {
     "name": "stdout",
     "output_type": "stream",
     "text": [
      "최적의 매개변수: {'C': 10, 'gamma': 0.01}\n"
     ]
    }
   ],
   "source": [
    "X = final[['우울증환자수', '평균연령', '총인구수', '스트레스인지율', '고용률', '코로나확진자수', '1인당 정신건강예산(원)', '공공시설개수']]\n",
    "y = final['우울증지수']\n",
    "\n",
    "X_train, X_test, y_train, y_test = train_test_split(X, y, random_state=42)\n",
    "\n",
    "# SVR 모델 정의\n",
    "svr = SVR(kernel = 'rbf')\n",
    "\n",
    "# 그리드 서치를 위한 매개변수 그리드 정의\n",
    "param_grid = {'C': [0.1, 1, 10, 100, 1000],\n",
    "              'gamma': [0.01, 0.1, 1, 10]}\n",
    "\n",
    "# GridSearchCV 객체 생성\n",
    "grid_search = GridSearchCV(svr, param_grid, cv=5)\n",
    "\n",
    "# 그리드 서치 수행\n",
    "grid_search.fit(X_train, y_train)\n",
    "\n",
    "# 최적의 매개변수 출력\n",
    "print(\"최적의 매개변수:\", grid_search.best_params_)\n",
    "\n",
    "# 최적의 모델 출력\n",
    "best_model = grid_search.best_estimator_"
   ]
  },
  {
   "cell_type": "code",
   "execution_count": 14,
   "id": "f9407c04",
   "metadata": {},
   "outputs": [
    {
     "name": "stdout",
     "output_type": "stream",
     "text": [
      "cv= 5 / 평균 r²: 0.708 / 표준편차 r²: 0.3952 / rmse : 0.5518\n"
     ]
    }
   ],
   "source": [
    "# 모델 파이프라인 생성 \n",
    "svr_model = make_pipeline(\n",
    "    RobustScaler(),\n",
    "    SVR(kernel='rbf', C = 10, gamma = 0.1)\n",
    ")\n",
    "\n",
    "# 모델 성능 검정\n",
    "rf_cv_scores_r2 = cross_val_score(svr_model, X, y, cv=5, scoring='r2')\n",
    "rf_cv_scores_mse = cross_val_score(svr_model, X, y, cv=5, scoring='neg_mean_squared_error')\n",
    "cv_rmse = np.sqrt(-rf_cv_scores_mse)\n",
    "\n",
    "print('cv=' , 5, '/ 평균 r²:', round(rf_cv_scores_r2.mean(),4), '/ 표준편차 r²:', round(rf_cv_scores_r2.std(),4), '/ rmse :', round(cv_rmse.mean(),4))"
   ]
  },
  {
   "cell_type": "markdown",
   "id": "ba07583f",
   "metadata": {},
   "source": [
    "그리드 서치 진행했으나 다른 하이퍼파라미터 조합이 교차검증 했을 때 평균 r² 점수가 더 높게 나옴"
   ]
  }
 ],
 "metadata": {
  "kernelspec": {
   "display_name": "Python 3 (ipykernel)",
   "language": "python",
   "name": "python3"
  },
  "language_info": {
   "codemirror_mode": {
    "name": "ipython",
    "version": 3
   },
   "file_extension": ".py",
   "mimetype": "text/x-python",
   "name": "python",
   "nbconvert_exporter": "python",
   "pygments_lexer": "ipython3",
   "version": "3.11.5"
  }
 },
 "nbformat": 4,
 "nbformat_minor": 5
}
